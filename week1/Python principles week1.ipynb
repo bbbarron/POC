{
 "cells": [
  {
   "cell_type": "markdown",
   "metadata": {},
   "source": [
    "# This is an example of Markdown 1\n",
    "## This is an example of Markdown 2\n",
    "### Markdown 3\n",
    "#### Markdown 4\n",
    "##### Markdown 5\n",
    "###### Markdown 6\n",
    "####### Markdown 7 ok, looks like it finally ran out. Markdown 5 & 6 are the same\n"
   ]
  },
  {
   "cell_type": "code",
   "execution_count": 34,
   "metadata": {
    "collapsed": false
   },
   "outputs": [
    {
     "name": "stdout",
     "output_type": "stream",
     "text": [
      "[0, 1, 2, 3, 6, 11, 20, 37, 68, 125, 230, 423, 778, 1431, 2632, 4841, 8904, 16377, 30122, 55403, 101902, 187427, 344732, 634061, 1166220, 2145013, 3945294, 7256527]\n",
      "230\n",
      "101902\n"
     ]
    }
   ],
   "source": [
    "''' Program to calculate the sum of the last three numbers in a list\n",
    " Program will loop 25 times. Version 1\n",
    "'''\n",
    "sum_three = [0,1,2]\n",
    "i=0\n",
    "for loop in xrange(25):\n",
    "    total = sum_three[-1] + sum_three[-2] + sum_three[-3]\n",
    "    sum_three.append(total)\n",
    "    i += 1\n",
    "print sum_three\n",
    "print sum_three[10]\n",
    "print sum_three[20]\n"
   ]
  },
  {
   "cell_type": "code",
   "execution_count": 68,
   "metadata": {
    "collapsed": false
   },
   "outputs": [
    {
     "name": "stdout",
     "output_type": "stream",
     "text": [
      "230\n",
      "101902\n"
     ]
    }
   ],
   "source": [
    "def appendsums(idx):\n",
    "    '''\n",
    "    repeatedly append the sum of the current last three elements of list to list,\n",
    "    loops for 25 times - version 2\n",
    "    '''\n",
    "    lst = [0,1,2]\n",
    "    for loop in xrange(25): \n",
    "        new_last = sum(lst[len(lst) - 3:])\n",
    "        lst.append(new_last)\n",
    "    return lst[idx]\n",
    "print appendsums(10)\n",
    "print appendsums(20)\n"
   ]
  },
  {
   "cell_type": "code",
   "execution_count": 71,
   "metadata": {
    "collapsed": false
   },
   "outputs": [
    {
     "name": "stdout",
     "output_type": "stream",
     "text": [
      "0\n",
      "30\n"
     ]
    }
   ],
   "source": [
    "def clock_helper(total_seconds):\n",
    "    \"\"\"\n",
    "    Helper function for a clock\n",
    "    \"\"\"\n",
    "    seconds_in_minute = total_seconds % 60\n",
    "    return seconds_in_minute\n",
    "print clock_helper(120)\n",
    "print clock_helper(90)"
   ]
  },
  {
   "cell_type": "code",
   "execution_count": 94,
   "metadata": {
    "collapsed": false
   },
   "outputs": [
    {
     "name": "stdout",
     "output_type": "stream",
     "text": [
      "ABCDEFG\n",
      "G\n"
     ]
    },
    {
     "ename": "AttributeError",
     "evalue": "'str' object has no attribute 'last'",
     "output_type": "error",
     "traceback": [
      "\u001b[0;31m---------------------------------------------------------------------------\u001b[0m",
      "\u001b[0;31mAttributeError\u001b[0m                            Traceback (most recent call last)",
      "\u001b[0;32m<ipython-input-94-a376cc3550af>\u001b[0m in \u001b[0;36m<module>\u001b[0;34m()\u001b[0m\n\u001b[1;32m      5\u001b[0m \u001b[0;31m#print my_string\u001b[0m\u001b[0;34m\u001b[0m\u001b[0;34m\u001b[0m\u001b[0m\n\u001b[1;32m      6\u001b[0m \u001b[0;31m#my_string[len(my_string)]\u001b[0m\u001b[0;34m\u001b[0m\u001b[0;34m\u001b[0m\u001b[0m\n\u001b[0;32m----> 7\u001b[0;31m \u001b[0;32mprint\u001b[0m \u001b[0mmy_string\u001b[0m\u001b[0;34m.\u001b[0m\u001b[0mlast\u001b[0m\u001b[0;34m(\u001b[0m\u001b[0;34m)\u001b[0m\u001b[0;34m\u001b[0m\u001b[0m\n\u001b[0m",
      "\u001b[0;31mAttributeError\u001b[0m: 'str' object has no attribute 'last'"
     ]
    }
   ],
   "source": [
    "my_string = 'ABCDEFG'\n",
    "print my_string\n",
    "print my_string[-1]\n",
    "#my_string.pop()\n",
    "#print my_string\n",
    "#my_string[len(my_string)]\n",
    "print my_string.last()"
   ]
  },
  {
   "cell_type": "code",
   "execution_count": 97,
   "metadata": {
    "collapsed": false
   },
   "outputs": [
    {
     "name": "stdout",
     "output_type": "stream",
     "text": [
      "Question 8 testing results:\n",
      "False is valid key for dictionary, results in: {False: 1234}\n",
      "Question 8 testing results:\n",
      " is valid key for dictionary, results in: {'': 1234}\n",
      "Question 8 testing results:\n",
      "None is valid key for dictionary, results in: {None: 1234}\n",
      "\n"
     ]
    }
   ],
   "source": [
    "def valid_dictionary_keys(k):\n",
    "    '''\n",
    "    helper function for checking dictionary keys\n",
    "    '''\n",
    "    print 'Question 8 testing results:'\n",
    "    dictionary = {}\n",
    "    try:\n",
    "        dictionary[k] = 1234\n",
    "        print k, 'is valid key for dictionary, results in:', dictionary\n",
    "    except TypeError:\n",
    "        print k, 'isn\\'t valid key for dictionary type!'\n",
    "        \n",
    "valid_dictionary_keys(False)\n",
    "#valid_dictionary_keys(set([]))\n",
    "#valid_dictionary_keys({})\n",
    "valid_dictionary_keys(\"\")\n",
    "#valid_dictionary_keys([])\n",
    "valid_dictionary_keys(None)\n",
    "print"
   ]
  },
  {
   "cell_type": "code",
   "execution_count": 103,
   "metadata": {
    "collapsed": false
   },
   "outputs": [],
   "source": [
    "# Question 10\n",
    "\n",
    "class BankAccount:\n",
    "    '''\n",
    "    simple bank acount class\n",
    "    the deposit and withdraw methods each change the account balance\n",
    "    '''\n",
    "    def __init__(self, initial_balance):\n",
    "        '''creates an account with the given balance'''\n",
    "        self.balance = initial_balance\n",
    "        self.fees = 0\n",
    "        \n",
    "    def deposit(self, amount):\n",
    "        '''deposits the amount into the account'''\n",
    "        self.balance += amount\n",
    "\n",
    "    def withdraw(self, amount):\n",
    "        '''\n",
    "        withdraws the amount from the account; Each withdrawal resulting in a\n",
    "        negative balance also deducts a penalty fee of 5 dollars from the balance\n",
    "        '''\n",
    "        self.balance -= amount\n",
    "        if self.balance < 0:\n",
    "            self.balance -= 5\n",
    "            self.fees += 5\n",
    "    \n",
    "    def get_balance(self):\n",
    "        '''returns the current balance in the account'''\n",
    "        return self.balance\n",
    "    \n",
    "    def get_fees(self):\n",
    "        '''returns the total fees ever deducted from the account'''\n",
    "        return self.fees\n",
    "\n"
   ]
  },
  {
   "cell_type": "code",
   "execution_count": 100,
   "metadata": {
    "collapsed": false
   },
   "outputs": [
    {
     "name": "stdout",
     "output_type": "stream",
     "text": [
      "Correct answers for testing Question 10 are 10 & 5, compare with results:\n",
      "10 5 \n",
      "\n"
     ]
    }
   ],
   "source": [
    "# test # 1, should print out '10' & '5'\n",
    "my_account = BankAccount(10)\n",
    "my_account.withdraw(15)\n",
    "my_account.deposit(20)\n",
    "print 'Correct answers for testing Question 10 are 10 & 5, compare with results:'\n",
    "print my_account.get_balance(), my_account.get_fees(), '\\n'"
   ]
  },
  {
   "cell_type": "code",
   "execution_count": 104,
   "metadata": {
    "collapsed": false
   },
   "outputs": [
    {
     "name": "stdout",
     "output_type": "stream",
     "text": [
      "Correct answers for Question 10 are: -60 & 75, compare with results:\n",
      "-60 75 \n",
      "\n"
     ]
    }
   ],
   "source": [
    "# Test # 2 , Answers at the bottom\n",
    "my_account = BankAccount(10)\n",
    "my_account.withdraw(5)\n",
    "my_account.deposit(10)\n",
    "my_account.withdraw(5)\n",
    "my_account.withdraw(15)\n",
    "my_account.deposit(20)\n",
    "my_account.withdraw(5) \n",
    "my_account.deposit(10)\n",
    "my_account.deposit(20)\n",
    "my_account.withdraw(15)\n",
    "my_account.deposit(30)\n",
    "my_account.withdraw(10)\n",
    "my_account.withdraw(15)\n",
    "my_account.deposit(10)\n",
    "my_account.withdraw(50) \n",
    "my_account.deposit(30)\n",
    "my_account.withdraw(15)\n",
    "my_account.deposit(10)\n",
    "my_account.withdraw(5) \n",
    "my_account.deposit(20)\n",
    "my_account.withdraw(15)\n",
    "my_account.deposit(10)\n",
    "my_account.deposit(30)\n",
    "my_account.withdraw(25) \n",
    "my_account.withdraw(5)\n",
    "my_account.deposit(10)\n",
    "my_account.withdraw(15)\n",
    "my_account.deposit(10)\n",
    "my_account.withdraw(10) \n",
    "my_account.withdraw(15)\n",
    "my_account.deposit(10)\n",
    "my_account.deposit(30)\n",
    "my_account.withdraw(25) \n",
    "my_account.withdraw(10)\n",
    "my_account.deposit(20)\n",
    "my_account.deposit(10)\n",
    "my_account.withdraw(5) \n",
    "my_account.withdraw(15)\n",
    "my_account.deposit(10)\n",
    "my_account.withdraw(5) \n",
    "my_account.withdraw(15)\n",
    "my_account.deposit(10)\n",
    "my_account.withdraw(5)\n",
    "print 'Correct answers for Question 10 are: -60 & 75, compare with results:'\n",
    "print my_account.get_balance(), my_account.get_fees(), '\\n'"
   ]
  },
  {
   "cell_type": "code",
   "execution_count": 1,
   "metadata": {
    "collapsed": false
   },
   "outputs": [
    {
     "name": "stdout",
     "output_type": "stream",
     "text": [
      "[4, 4, 0, 0]\n",
      "[4, 0, 0, 0]\n",
      "[4, 0, 0, 0]\n",
      "[4, 4, 2, 0, 0]\n",
      "[8, 32, 8, 0]\n",
      "[16, 0]\n"
     ]
    }
   ],
   "source": [
    "\"\"\"\n",
    "    Barry Barron\n",
    "    Principles of Computing 7/2016 Week 1, Mini-project 1\n",
    "    Merge function for 2048 game\n",
    "    CodeSkulpter link http://www.codeskulptor.org/#user41_J1T44jaXXX_2.py\n",
    "\"\"\"\n",
    "def merge(line):\n",
    "    \"\"\"\n",
    "    Function that merges a single row or column in 2048\n",
    "    \"\"\"\n",
    "    original_length = len(line)\n",
    "    empty_space = 0 # set empty cells to zero\n",
    "\n",
    "    # slide all tiles towards the front (left or top) by removing empty spaces (zero values)\n",
    "    while empty_space in line:\n",
    "        line.remove(empty_space)\n",
    "\n",
    "    for tile in xrange(len(line)):\n",
    "        # arrived at the end of list\n",
    "        if tile + 1 > len(line) - 1:\n",
    "            break\n",
    "        # merge pair of eligible neighbors\n",
    "        if line[tile] == line[tile + 1]:\n",
    "            line[tile] *= 2\n",
    "            del line[tile + 1]\n",
    "            line.insert(tile + 1, empty_space)\n",
    "\n",
    "    # slide all the tiles towards the front and fill the rest with zeros\n",
    "    while empty_space in line:\n",
    "        line.remove(empty_space)\n",
    "    while len(line) != original_length:\n",
    "        line.append(empty_space)\n",
    "\n",
    "    return line\n",
    "\n",
    "# Test code with given sample data\n",
    "print merge([2,0,2,4])\n",
    "print merge([0,0,2,2])\n",
    "print merge([2,2,0,0])\n",
    "print merge([2,2,2,2,2])\n",
    "print merge([8,16,16,8])\n",
    "print merge ([8,8])\n",
    "\n",
    "            "
   ]
  },
  {
   "cell_type": "code",
   "execution_count": null,
   "metadata": {
    "collapsed": true
   },
   "outputs": [],
   "source": []
  }
 ],
 "metadata": {
  "anaconda-cloud": {},
  "kernelspec": {
   "display_name": "Python [py27]",
   "language": "python",
   "name": "Python [py27]"
  },
  "language_info": {
   "codemirror_mode": {
    "name": "ipython",
    "version": 2
   },
   "file_extension": ".py",
   "mimetype": "text/x-python",
   "name": "python",
   "nbconvert_exporter": "python",
   "pygments_lexer": "ipython2",
   "version": "2.7.12"
  }
 },
 "nbformat": 4,
 "nbformat_minor": 0
}
